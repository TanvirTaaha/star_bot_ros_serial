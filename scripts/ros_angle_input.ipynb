{
 "cells": [
  {
   "cell_type": "code",
   "execution_count": 1,
   "metadata": {},
   "outputs": [],
   "source": [
    "import rospy\n",
    "from std_msgs.msg import Int16MultiArray, Int16"
   ]
  },
  {
   "cell_type": "code",
   "execution_count": 2,
   "metadata": {},
   "outputs": [
    {
     "name": "stdout",
     "output_type": "stream",
     "text": [
      "[DEBUG] [1661840570.444550]: init_node, name[/ros_test_87388_1661840570120], pid[87388]\n",
      "[DEBUG] [1661840570.445507]: ... service URL is rosrpc://taahas-MacBook-Pro.local:59742\n",
      "[DEBUG] [1661840570.446980]: [/ros_test_87388_1661840570120/get_loggers]: new Service instance\n",
      "[DEBUG] [1661840570.448721]: ... service URL is rosrpc://taahas-MacBook-Pro.local:59742\n",
      "[DEBUG] [1661840570.449476]: [/ros_test_87388_1661840570120/set_logger_level]: new Service instance\n",
      "[INFO] [1661840570.450909]: baal cholse\n"
     ]
    }
   ],
   "source": [
    "i=0\n",
    "pub = rospy.Publisher('cmd_angle', Int16MultiArray, queue_size=10)\n",
    "rospy.init_node('ros_test', anonymous=True, log_level=rospy.DEBUG)\n",
    "\n",
    "rate = rospy.Rate(10)\n",
    "# while not rospy.is_shutdown():\n",
    "rospy.loginfo('baal cholse')\n",
    "rate.sleep()\n",
    "msg = Int16MultiArray()"
   ]
  },
  {
   "cell_type": "code",
   "execution_count": 35,
   "metadata": {},
   "outputs": [],
   "source": [
    "msg.data = [1, 100, 40, 10, 0] # [base_angle, shoulder_angle, elbow_angle, pitch_angle, grip_close]\n",
    "pub.publish(msg)\n",
    "rate.sleep()"
   ]
  }
 ],
 "metadata": {
  "kernelspec": {
   "display_name": "Python 3.8.13 ('ros': conda)",
   "language": "python",
   "name": "python3"
  },
  "language_info": {
   "codemirror_mode": {
    "name": "ipython",
    "version": 3
   },
   "file_extension": ".py",
   "mimetype": "text/x-python",
   "name": "python",
   "nbconvert_exporter": "python",
   "pygments_lexer": "ipython3",
   "version": "3.8.13"
  },
  "orig_nbformat": 4,
  "vscode": {
   "interpreter": {
    "hash": "54113d50e426ac89d11d63cd20cae8898b8d32eb39c6e954cbcf72a537d59680"
   }
  }
 },
 "nbformat": 4,
 "nbformat_minor": 2
}
