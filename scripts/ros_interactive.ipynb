{
 "cells": [
  {
   "cell_type": "markdown",
   "metadata": {},
   "source": [
    "# Init Node"
   ]
  },
  {
   "cell_type": "code",
   "execution_count": 1,
   "metadata": {},
   "outputs": [],
   "source": [
    "import rospy\n",
    "from std_msgs.msg import Int16MultiArray, Int16"
   ]
  },
  {
   "cell_type": "code",
   "execution_count": 2,
   "metadata": {},
   "outputs": [
    {
     "name": "stdout",
     "output_type": "stream",
     "text": [
      "[DEBUG] [1661524901.006269]: init_node, name[/ros_test_20794_1661524900764], pid[20794]\n",
      "[DEBUG] [1661524901.007137]: ... service URL is rosrpc://taahas-MacBook-Pro.local:50150\n",
      "[DEBUG] [1661524901.007674]: [/ros_test_20794_1661524900764/get_loggers]: new Service instance\n",
      "[DEBUG] [1661524901.008604]: ... service URL is rosrpc://taahas-MacBook-Pro.local:50150\n",
      "[DEBUG] [1661524901.009184]: [/ros_test_20794_1661524900764/set_logger_level]: new Service instance\n",
      "[INFO] [1661524901.010197]: baal cholse\n"
     ]
    }
   ],
   "source": [
    "i=0\n",
    "pub = rospy.Publisher('cmd_angle', Int16MultiArray, queue_size=10)\n",
    "rospy.init_node('ros_test', anonymous=True, log_level=rospy.DEBUG)\n",
    "\n",
    "rate = rospy.Rate(10)\n",
    "# while not rospy.is_shutdown():\n",
    "rospy.loginfo('baal cholse')\n",
    "rate.sleep()\n",
    "msg = Int16MultiArray()"
   ]
  },
  {
   "cell_type": "markdown",
   "metadata": {},
   "source": [
    "# Send angles"
   ]
  },
  {
   "cell_type": "code",
   "execution_count": 8,
   "metadata": {},
   "outputs": [],
   "source": [
    "i+=1\n",
    "msg.data = [1, 30, 30, 30,30] # [nm, base_angle, shoulder_angle, elbow_angle, pitch_angle]\n",
    "pub.publish(msg)\n",
    "rate.sleep()\n"
   ]
  }
 ],
 "metadata": {
  "kernelspec": {
   "display_name": "Python 3.9.13 ('rosarm')",
   "language": "python",
   "name": "python3"
  },
  "language_info": {
   "codemirror_mode": {
    "name": "ipython",
    "version": 3
   },
   "file_extension": ".py",
   "mimetype": "text/x-python",
   "name": "python",
   "nbconvert_exporter": "python",
   "pygments_lexer": "ipython3",
   "version": "3.9.13"
  },
  "orig_nbformat": 4,
  "vscode": {
   "interpreter": {
    "hash": "5b1c76828f853fa4701736e713685c2663df95bd884cf30fc6c4674773ef6b1f"
   }
  }
 },
 "nbformat": 4,
 "nbformat_minor": 2
}
